{
 "cells": [
  {
   "cell_type": "code",
   "execution_count": 152,
   "metadata": {},
   "outputs": [],
   "source": [
    "import numpy as np\n",
    "import pandas as pd\n",
    "import matplotlib.pyplot as plt\n",
    "from scipy import stats\n",
    "from functools import reduce\n",
    "\n"
   ]
  },
  {
   "cell_type": "code",
   "execution_count": 32,
   "metadata": {},
   "outputs": [
    {
     "data": {
      "text/plain": [
       "(1584823, 3)"
      ]
     },
     "execution_count": 32,
     "metadata": {},
     "output_type": "execute_result"
    }
   ],
   "source": [
    "df = pd.read_csv(\"project_data.csv\")\n",
    "# df.shape - (1584823, 3)\n",
    "# df column values:\n",
    "# localminute - Timestamp \n",
    "# dataid - MeterID \n",
    "# meter_value - meter reading"
   ]
  },
  {
   "cell_type": "markdown",
   "metadata": {},
   "source": [
    "# How many houses are included in the measurement study?"
   ]
  },
  {
   "cell_type": "code",
   "execution_count": 26,
   "metadata": {},
   "outputs": [
    {
     "data": {
      "text/plain": [
       "157"
      ]
     },
     "execution_count": 26,
     "metadata": {},
     "output_type": "execute_result"
    }
   ],
   "source": [
    "# Since dataid is unique for each meter, we can count the number of unique dataid numbers\n",
    "df.dataid.value_counts().size"
   ]
  },
  {
   "cell_type": "markdown",
   "metadata": {},
   "source": [
    "### This gives us 157 for the number of houses included in the study"
   ]
  },
  {
   "cell_type": "markdown",
   "metadata": {},
   "source": [
    "# Are there any malfunctioning meters? If so, identify them and the time periods where they were malfunctioning."
   ]
  },
  {
   "cell_type": "markdown",
   "metadata": {},
   "source": [
    "## There are various ways to define a malfunctioning meter. Let us explore some of them"
   ]
  },
  {
   "cell_type": "markdown",
   "metadata": {},
   "source": [
    "### Let us first check, if there are *meters that report a lower value at a later timestamp*. Since meter_value is cumulative consumption, meter_value should not be lower at a later timestamp for the same meter"
   ]
  },
  {
   "cell_type": "code",
   "execution_count": 80,
   "metadata": {},
   "outputs": [],
   "source": [
    "grouped = df.groupby(['dataid'], sort=['localminute'])\n",
    "def has_decreasing_values(df):\n",
    "    current_value = 0\n",
    "    for index, val in df.iteritems():\n",
    "        if val < current_value:\n",
    "            return True\n",
    "        current_value = val\n",
    "        \n",
    "meters_with_decreasing = (grouped['meter_value']\n",
    "                          .agg(has_decreasing_value)\n",
    "                          .where(lambda x: x)\n",
    "                          .dropna()\n",
    "                          .keys())"
   ]
  },
  {
   "cell_type": "code",
   "execution_count": 103,
   "metadata": {},
   "outputs": [
    {
     "name": "stdout",
     "output_type": "stream",
     "text": [
      "43\n"
     ]
    },
    {
     "data": {
      "text/plain": [
       "Int64Index([  35,   77,   94,  483,  484, 1042, 1086, 1185, 1507, 1556, 1718,\n",
       "            1790, 1801, 2129, 2335, 2449, 3134, 3527, 3544, 3893, 4031, 4193,\n",
       "            4514, 4998, 5129, 5131, 5193, 5403, 5810, 5814, 5892, 6836, 7017,\n",
       "            7030, 7117, 7739, 7794, 7989, 8156, 8890, 9134, 9639, 9982],\n",
       "           dtype='int64', name='dataid')"
      ]
     },
     "execution_count": 103,
     "metadata": {},
     "output_type": "execute_result"
    }
   ],
   "source": [
    "print(len(meters_with_decreasing))\n",
    "meters_with_decreasing"
   ]
  },
  {
   "cell_type": "markdown",
   "metadata": {},
   "source": [
    "#### Wow, we have 43 meters that have a decreasing value! Let's zoom in and get the offending sections for each meter. (In other words, find the exact data points which show this descreasing value)"
   ]
  },
  {
   "cell_type": "code",
   "execution_count": 117,
   "metadata": {},
   "outputs": [],
   "source": [
    "## Need to re-sort after filter since filter takes all rows and breaks original sorting\n",
    "dec_meters = (grouped.filter(lambda x: int(x.name) in meters_with_decreasing)\n",
    "              .groupby(['dataid'], sort=['localminute']))\n",
    "\n",
    "## Iterate over values to find offending rows for each meter\n",
    "## WARNING: RUNS VERY SLOWLY. TODO: OPTIMIZE\n",
    "offending_values = {}\n",
    "for group_id, rows in dec_meters.groups.items():\n",
    "    offending_values[group_id] = []\n",
    "    current_value = 0\n",
    "    group_rows = dec_meters.get_group(group_id)\n",
    "    group_rows_count = group_rows.shape[0]\n",
    "    for i in range(group_rows_count):\n",
    "        if group_rows.iloc[i]['meter_value'] < current_value:\n",
    "            offending_values[group_id].append([group_rows.iloc[i-1], group_rows.iloc[i]])\n",
    "        current_value = group_rows.iloc[i]['meter_value']\n",
    "    "
   ]
  },
  {
   "cell_type": "markdown",
   "metadata": {},
   "source": [
    "##### Number of 'broken data' instances for each meter"
   ]
  },
  {
   "cell_type": "code",
   "execution_count": 149,
   "metadata": {},
   "outputs": [
    {
     "name": "stdout",
     "output_type": "stream",
     "text": [
      "Meter ID | Number of broken readings\n",
      "35                   1\n",
      "77                   1\n",
      "94                   6\n",
      "483                  1\n",
      "484                  9\n",
      "1042                 1\n",
      "1086                 1\n",
      "1185                 135\n",
      "1507                 2\n",
      "1556                 12\n",
      "1718                 4\n",
      "1790                 1\n",
      "1801                 1\n",
      "2129                 3\n",
      "2335                 5\n",
      "2449                 93\n",
      "3134                 18\n",
      "3527                 1\n",
      "3544                 18\n",
      "3893                 2\n",
      "4031                 16\n",
      "4193                 1\n",
      "4514                 141\n",
      "4998                 1\n",
      "5129                 76\n",
      "5131                 1\n",
      "5193                 4\n",
      "5403                 156\n",
      "5810                 10\n",
      "5814                 1\n",
      "5892                 1\n",
      "6836                 51\n",
      "7017                 1\n",
      "7030                 90\n",
      "7117                 123\n",
      "7739                 1\n",
      "7794                 1\n",
      "7989                 2\n",
      "8156                 151\n",
      "8890                 44\n",
      "9134                 115\n",
      "9639                 2\n",
      "9982                 2\n"
     ]
    }
   ],
   "source": [
    "print(\"Meter ID |\", \"Number of broken readings\")\n",
    "for k, v in offending_values.items():\n",
    "    print(str(k).ljust(20), len(v))\n",
    "        "
   ]
  },
  {
   "cell_type": "markdown",
   "metadata": {},
   "source": [
    "##### Just knowing the number of broken readings may not be useful. \n",
    "##### Let's say that we want to know which meters should be fixed, since faulty meters result in us inaccurately measuring consumption, and possibly losing money.\n",
    "##### There should be some measure of tolerance in deciding if a meter is broken. In this case, let's check the average decreasing amount, and the ratio of \"broken\" readings "
   ]
  },
  {
   "cell_type": "code",
   "execution_count": 161,
   "metadata": {},
   "outputs": [
    {
     "name": "stdout",
     "output_type": "stream",
     "text": [
      "Meter ID | Number of broken readings | Average decrease across broken readings | Percentage of broken readings for meter\n",
      "35                   1                    2.0                                      0.008423180592991915\n",
      "77                   1                    2.0                                      0.009360666479453337\n",
      "94                   6                    9.0                                      0.016513003990642632\n",
      "483                  1                    14.0                                     0.0036195164326046038\n",
      "484                  9                    2.4444444444444446                       0.020438751873552256\n",
      "1042                 1                    2.0                                      0.02610966057441253\n",
      "1086                 1                    2.0                                      0.003330114222917846\n",
      "1185                 135                  16267.674074074097                       0.7314694408322496\n",
      "1507                 2                    2.0                                      0.006134404809373371\n",
      "1556                 12                   13574.0                                  0.3252032520325203\n",
      "1718                 4                    5.0                                      0.016346546791990192\n",
      "1790                 1                    2.0                                      0.007494004796163069\n",
      "1801                 1                    2.0                                      0.006292474200855777\n",
      "2129                 3                    2.0                                      0.021759628635671283\n",
      "2335                 5                    22942.0                                  0.05611672278338946\n",
      "2449                 93                   15472.860215053784                       1.7067351807671134\n",
      "3134                 18                   12877.222222222224                       0.4480955937266617\n",
      "3527                 1                    2.0                                      0.009214042200313279\n",
      "3544                 18                   8488.222222222223                        0.8104457451598379\n",
      "3893                 2                    2.0                                      0.007450454477723141\n",
      "4031                 16                   2.875                                    0.1276527844263603\n",
      "4193                 1                    2.0                                      0.09813542688910697\n",
      "4514                 141                  23971.8156028369                         0.7392261717521234\n",
      "4998                 1                    14.0                                     0.007156147130385\n",
      "5129                 76                   11116.815789473698                       1.6941596076683014\n",
      "5131                 1                    2.0                                      0.00658457891617831\n",
      "5193                 4                    5.0                                      0.02055076037813399\n",
      "5403                 156                  10897.37179487177                        0.6103525177041355\n",
      "5810                 10                   4.6000000000000005                       0.023677605720509542\n",
      "5814                 1                    2.0                                      0.0023571563266075804\n",
      "5892                 1                    2.0                                      0.007072635971426551\n",
      "6836                 51                   11397.17647058824                        1.1283185840707965\n",
      "7017                 1                    4.0                                      0.0039558526840460465\n",
      "7030                 90                   17217.15555555556                        0.5023723137036004\n",
      "7117                 123                  16809.414634146335                       0.6002049480310351\n",
      "7739                 1                    2.0                                      0.022558087074216106\n",
      "7794                 1                    6.0                                      0.011724703951225232\n",
      "7989                 2                    26.0                                     0.005034866450167409\n",
      "8156                 151                  16260.622516556286                       0.596932321315623\n",
      "8890                 44                   2.6363636363636354                       0.26547604682032094\n",
      "9134                 115                  32439.008695652185                       0.8176905574516496\n",
      "9639                 2                    29376.0                                  0.014496955639315743\n",
      "9982                 2                    14036.0                                  0.12987012987012986\n"
     ]
    }
   ],
   "source": [
    "print(\"Meter ID |\", \"Number of broken readings |\", \"Average decrease across broken readings |\", \"Percentage of broken readings for meter\")\n",
    "for k, v in offending_values.items():\n",
    "    print(str(k).ljust(20), \n",
    "          str(len(v)).ljust(20), \n",
    "          str(reduce(lambda x, y: x + abs(y[1]['meter_value'] - y[0]['meter_value']) / len(v), [0] + v )).ljust(40), \n",
    "          (len(v) / dec_meters.get_group(k).shape[0]) * 100)"
   ]
  },
  {
   "cell_type": "markdown",
   "metadata": {},
   "source": [
    "#### With the data laid out like this, it is pretty clear that most meters are not really broken if we allow a 2% error rate\n",
    "#### However, in terms of error volume, some are pretty suspect. Let's use an average volume error of 100 Cubic foot (that's a lot!) as our threshold, and filter our results"
   ]
  },
  {
   "cell_type": "code",
   "execution_count": 164,
   "metadata": {},
   "outputs": [
    {
     "name": "stdout",
     "output_type": "stream",
     "text": [
      "Meter ID | Number of broken readings | Average decrease across broken readings | Percentage of broken readings for meter\n",
      "483                  1                    14.0                                     0.0036195164326046038\n",
      "1185                 135                  16267.674074074097                       0.7314694408322496\n",
      "1556                 12                   13574.0                                  0.3252032520325203\n",
      "2335                 5                    22942.0                                  0.05611672278338946\n",
      "2449                 93                   15472.860215053784                       1.7067351807671134\n",
      "3134                 18                   12877.222222222224                       0.4480955937266617\n",
      "3544                 18                   8488.222222222223                        0.8104457451598379\n",
      "4514                 141                  23971.8156028369                         0.7392261717521234\n",
      "4998                 1                    14.0                                     0.007156147130385\n",
      "5129                 76                   11116.815789473698                       1.6941596076683014\n",
      "5403                 156                  10897.37179487177                        0.6103525177041355\n",
      "6836                 51                   11397.17647058824                        1.1283185840707965\n",
      "7030                 90                   17217.15555555556                        0.5023723137036004\n",
      "7117                 123                  16809.414634146335                       0.6002049480310351\n",
      "7989                 2                    26.0                                     0.005034866450167409\n",
      "8156                 151                  16260.622516556286                       0.596932321315623\n",
      "9134                 115                  32439.008695652185                       0.8176905574516496\n",
      "9639                 2                    29376.0                                  0.014496955639315743\n",
      "9982                 2                    14036.0                                  0.12987012987012986\n"
     ]
    }
   ],
   "source": [
    "print(\"Meter ID |\", \"Number of broken readings |\", \"Average decrease across broken readings |\", \"Percentage of broken readings for meter\")\n",
    "for k, v in offending_values.items():\n",
    "    measure = str(reduce(lambda x, y: x + abs(y[1]['meter_value'] - y[0]['meter_value']) / len(v), [0] + v )).ljust(40)\n",
    "    if float(measure) > 10:\n",
    "        print(str(k).ljust(20), \n",
    "              str(len(v)).ljust(20), \n",
    "              measure, \n",
    "              (len(v) / dec_meters.get_group(k).shape[0]) * 100)"
   ]
  },
  {
   "cell_type": "code",
   "execution_count": 193,
   "metadata": {},
   "outputs": [
    {
     "name": "stdout",
     "output_type": "stream",
     "text": [
      "time apart |         meter value initial | meter value after | difference\n",
      "0 days 00:00:13           203154               203152               -2\n",
      "0 days 00:06:59           203580               203578               -2\n",
      "0 days 01:52:10.446150    223266               206892               -16374\n",
      "0 days 00:15:09.023424    223266               206892               -16374\n",
      "0 days 00:01:10.125932    223268               206910               -16358\n",
      "0 days 02:14:09.533295    223282               206986               -16296\n",
      "0 days 00:21:08.597335    223304               207046               -16258\n",
      "0 days 01:39:08.641617    223306               207048               -16258\n",
      "0 days 01:41:09.602248    223318               207066               -16252\n",
      "0 days 00:46:07.782113    223320               207080               -16240\n",
      "0 days 01:13:08.190968    223332               207094               -16238\n",
      "0 days 00:14:06.456241    223340               207104               -16236\n"
     ]
    }
   ],
   "source": [
    "\"\"\"Use this function to validate/check each bad meter given our heuristic\"\"\"\n",
    "def print_bad_meter_readings(meterID):\n",
    "    meter_readings = offending_values[meterID]\n",
    "    print(\"time apart |\".ljust(20), \"meter value initial |\", \"meter value after |\", \"difference\")\n",
    "    for readings_pair in meter_readings:\n",
    "\n",
    "        print(str(pd.to_datetime(readings_pair[1]['localminute']) - pd.to_datetime(readings_pair[0]['localminute'])).ljust(25), \n",
    "              str(readings_pair[0]['meter_value']).ljust(20), \n",
    "              str(readings_pair[1]['meter_value']).ljust(20), \n",
    "              readings_pair[1]['meter_value'] - readings_pair[0]['meter_value'])\n",
    "print_bad_meter_readings(1556)\n",
    "        "
   ]
  },
  {
   "cell_type": "markdown",
   "metadata": {},
   "source": [
    "### Another requirement of the meters is that they push their readings to be saved if the meter values differ by at least 2 cubic foot\n",
    "#### Let us verify that every pair of readings for a meter differ by at least 2 cubic foot. To not double count, we will only check for readings where the differing value is 0 >= x > 2 so that we don't get the same error readings where the readings decrease\n",
    "#### Since the value is smaller, we will not focus on the difference in values, but on the percentage of total readings for the meter only"
   ]
  },
  {
   "cell_type": "code",
   "execution_count": 197,
   "metadata": {},
   "outputs": [
    {
     "name": "stdout",
     "output_type": "stream",
     "text": [
      "Number of meters with stagnant values:  155\n"
     ]
    }
   ],
   "source": [
    "grouped2 = df.groupby(['dataid'], sort=['localminute'])\n",
    "def has_stagnant_values(df):\n",
    "    current_value = 0\n",
    "    for index, val in df.iteritems():\n",
    "        if index == 0:\n",
    "            current_value = val\n",
    "            continue\n",
    "        \n",
    "        if val < current_value + 2 and val >= current_value:\n",
    "            return True\n",
    "        current_value = val\n",
    "        \n",
    "meters_with_stagnant = (grouped['meter_value']\n",
    "                          .agg(has_stagnant_values)\n",
    "                          .where(lambda x: x)\n",
    "                          .dropna()\n",
    "                          .keys())\n",
    "\n",
    "print(\"Number of meters with stagnant values: \", len(meters_with_stagnant))"
   ]
  },
  {
   "cell_type": "markdown",
   "metadata": {},
   "source": [
    "#### The following segment should have calculated the percentage of stagnant values for each meter, but it takes too long (tried for 5 minutes and gave up). At least we know number of meters that reported stagnant values?"
   ]
  },
  {
   "cell_type": "code",
   "execution_count": null,
   "metadata": {},
   "outputs": [],
   "source": [
    "# ## Need to re-sort after filter since filter takes all rows and breaks original sorting\n",
    "# stagnant_meters = (grouped2.filter(lambda x: int(x.name) in meters_with_stagnant)\n",
    "#               .groupby(['dataid'], sort=['localminute']))\n",
    "\n",
    "# ## Iterate over values to count offending occurences. Not counting value\n",
    "# ## WARNING: RUNS VERY SLOWLY. TODO: OPTIMIZE\n",
    "# offending_values2 = {}\n",
    "# for group_id, rows in stagnant_meters.groups.items():\n",
    "#     offending_values2[group_id] = 0\n",
    "#     group_rows = stagnant_meters.get_group(group_id)\n",
    "#     group_rows_count = group_rows.shape[0]\n",
    "#     # Set current_value so we do not trigger first reading\n",
    "#     current_value = group_rows.iloc[0]['meter_value'] - 5\n",
    "#     for i in range(group_rows_count):\n",
    "#         if group_rows.iloc[i]['meter_value'] < current_value + 2 and group_rows.iloc[i]['meter_value'] >= current_value:\n",
    "#             offending_values2[group_id] += 1\n",
    "#         current_value = group_rows.iloc[i]['meter_value']\n",
    "\n",
    "        \n",
    "# print(\"Meter ID |\", \"Number of broken readings |\", \"Percentage of broken readings for meter\")\n",
    "# for k, v in offending_values2.items():\n",
    "#     print(str(k).ljust(20), \n",
    "#           str(v).ljust(20),  \n",
    "#           (v / stagnant_meters.get_group(k).shape[0]) * 100)\n"
   ]
  },
  {
   "cell_type": "code",
   "execution_count": 216,
   "metadata": {},
   "outputs": [
    {
     "name": "stdout",
     "output_type": "stream",
     "text": [
      "Total number of readings to iterate, which is why it is slow:  1584818\n"
     ]
    }
   ],
   "source": [
    "stagnant_meters = (grouped2.filter(lambda x: int(x.name) in meters_with_stagnant)\n",
    "              .groupby(['dataid'], sort=['localminute']))\n",
    "\n",
    "print(\"Total number of readings to iterate, which is why it is slow: \", \n",
    "      reduce(lambda x, y: x + len(y), [0] + list(stagnant_meters.groups.values())))"
   ]
  },
  {
   "cell_type": "markdown",
   "metadata": {},
   "source": [
    "### Lastly, another requirement of the meters is that they take a reading every 15 seconds before deciding whether to push the results to a collecting server\n",
    "#### Let us now check for pairs where the time between readings is less than 15 seconds, or for consistent patterns that are more than 15 seconds"
   ]
  },
  {
   "cell_type": "code",
   "execution_count": null,
   "metadata": {},
   "outputs": [],
   "source": []
  },
  {
   "cell_type": "code",
   "execution_count": null,
   "metadata": {},
   "outputs": [],
   "source": []
  }
 ],
 "metadata": {
  "kernelspec": {
   "display_name": "Python 3",
   "language": "python",
   "name": "python3"
  },
  "language_info": {
   "codemirror_mode": {
    "name": "ipython",
    "version": 3
   },
   "file_extension": ".py",
   "mimetype": "text/x-python",
   "name": "python",
   "nbconvert_exporter": "python",
   "pygments_lexer": "ipython3",
   "version": "3.6.5"
  }
 },
 "nbformat": 4,
 "nbformat_minor": 2
}
